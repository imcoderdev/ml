{
 "cells": [
  {
   "cell_type": "code",
   "execution_count": 6,
   "metadata": {},
   "outputs": [
    {
     "name": "stdout",
     "output_type": "stream",
     "text": [
      "Slope (alcohol's impact): 0.36\n",
      "Base quality: 1.85\n",
      "Prediction Error: 0.50\n",
      "Model Accuracy: 0.24\n"
     ]
    }
   ],
   "source": [
    "import pandas as pd\n",
    "from sklearn.model_selection import train_test_split\n",
    "from sklearn.linear_model import LinearRegression\n",
    "from sklearn.metrics import mean_squared_error, r2_score\n",
    "\n",
    "# Load wine data\n",
    "wine_data = pd.read_csv(\"C:/Users/asus/Downloads/winequality-red.csv\")\n",
    "\n",
    "# Prepare data for prediction\n",
    "X = wine_data[['alcohol']]  # Predictor\n",
    "y = wine_data['quality']    # Target\n",
    "\n",
    "# Split data into training and testing sets\n",
    "X_train, X_test, y_train, y_test = train_test_split(X, y, test_size=0.2, random_state=42)\n",
    "\n",
    "# Create and train the model\n",
    "model = LinearRegression()\n",
    "model.fit(X_train, y_train)\n",
    "\n",
    "# Make predictions and evaluate\n",
    "predictions = model.predict(X_test)\n",
    "mse = mean_squared_error(y_test, predictions)\n",
    "r2 = r2_score(y_test, predictions)\n",
    "\n",
    "# Show results\n",
    "print(f\"Slope (alcohol's impact): {model.coef_[0]:.2f}\")\n",
    "print(f\"Base quality: {model.intercept_:.2f}\")\n",
    "print(f\"Prediction Error: {mse:.2f}\")\n",
    "print(f\"Model Accuracy: {r2:.2f}\")"
   ]
  }
 ],
 "metadata": {
  "kernelspec": {
   "display_name": "Python 3",
   "language": "python",
   "name": "python3"
  },
  "language_info": {
   "codemirror_mode": {
    "name": "ipython",
    "version": 3
   },
   "file_extension": ".py",
   "mimetype": "text/x-python",
   "name": "python",
   "nbconvert_exporter": "python",
   "pygments_lexer": "ipython3",
   "version": "3.12.8"
  }
 },
 "nbformat": 4,
 "nbformat_minor": 2
}
