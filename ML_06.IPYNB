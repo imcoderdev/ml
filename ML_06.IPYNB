{
 "cells": [
  {
   "cell_type": "code",
   "execution_count": 1,
   "metadata": {},
   "outputs": [
    {
     "ename": "SyntaxError",
     "evalue": "invalid syntax (1627682846.py, line 2)",
     "output_type": "error",
     "traceback": [
      "\u001b[1;36m  Cell \u001b[1;32mIn[1], line 2\u001b[1;36m\u001b[0m\n\u001b[1;33m    import tensorflow as http://localhost:8888/notebooks/Untitled48.ipynb?kernel_name=python3#tf\u001b[0m\n\u001b[1;37m                             ^\u001b[0m\n\u001b[1;31mSyntaxError\u001b[0m\u001b[1;31m:\u001b[0m invalid syntax\n"
     ]
    }
   ],
   "source": [
    "# Step 1: Import Libraries\n",
    "import tensorflow as http://localhost:8888/notebooks/Untitled48.ipynb?kernel_name=python3#tf\n",
    "from sklearn.datasets import fetch_20newsgroups\n",
    "from sklearn.feature_extraction.text import TfidfVectorizer\n",
    "from sklearn.model_selection import train_test_split\n",
    "# Step 2: Load the 20 Newsgroups Dataset\n",
    "print(\"Loading dataset...\")\n",
    "data = fetch_20newsgroups(subset='all', remove=('headers', 'footers', 'quotes'))\n",
    "# Step 3: Split the Dataset into Training and Testing Sets\n",
    "print(\"Splitting dataset...\")\n",
    "X_train, X_test, y_train, y_test = train_test_split(data.data, data.target, test_size=0.2, random_state=42)\n",
    "# Step 4: Convert Text Data into Numerical Form Using TfidfVectorizer\n",
    "print(\"Converting text to numerical features...\")\n",
    "vectorizer = TfidfVectorizer(max_features=5000, stop_words='english')\n",
    "X_train = vectorizer.fit_transform(X_train).toarray() # Convert training data to TF-IDF features\n",
    "X_test = vectorizer.transform(X_test).toarray() # Convert testing data to TF-IDF features\n",
    "# Step 5: Define the Model\n",
    "print(\"Building model...\")\n",
    "model = tf.keras.Sequential([\n",
    " tf.keras.layers.Input(shape=(5000,)), # Explicitly define the input shape\n",
    " tf.keras.layers.Dense(512, activation=\"relu\"), # First hidden layer\n",
    " tf.keras.layers.Dense(len(data.target_names), activation=\"softmax\") # Output layer\n",
    "])\n",
    "# Step 6: Compile the Model\n",
    "print(\"Compiling model...\")\n",
    "model.compile(optimizer=\"adam\", loss=\"sparse_categorical_crossentropy\", metrics=[\"accuracy\"])\n",
    "# Step 7: Train the Model\n",
    "print(\"Training model...\")\n",
    "history = model.fit(X_train, y_train, epochs=10, batch_size=32, validation_data=(X_test, y_test))\n",
    "# Step 8: Evaluate the Model\n",
    "print(\"Evaluating model...\")\n",
    "test_loss, test_accuracy = model.evaluate(X_test, y_test)\n",
    "print(f\"Test Accuracy: {test_accuracy * 100:.2f}%\")\n"
   ]
  }
 ],
 "metadata": {
  "kernelspec": {
   "display_name": "Python 3",
   "language": "python",
   "name": "python3"
  },
  "language_info": {
   "codemirror_mode": {
    "name": "ipython",
    "version": 3
   },
   "file_extension": ".py",
   "mimetype": "text/x-python",
   "name": "python",
   "nbconvert_exporter": "python",
   "pygments_lexer": "ipython3",
   "version": "3.12.10"
  }
 },
 "nbformat": 4,
 "nbformat_minor": 2
}
